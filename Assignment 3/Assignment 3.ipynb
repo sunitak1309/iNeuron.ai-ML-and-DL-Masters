{
 "cells": [
  {
   "cell_type": "code",
   "execution_count": 1,
   "id": "2e1e061f",
   "metadata": {},
   "outputs": [],
   "source": [
    "# 1.1 Write a Python program to implement your own myreduce() function which works exactly like Python's built-in reduce() function.\n",
    "\n",
    "def my_reduce(func, iterable, initializer = None):\n",
    "    \n",
    "    # check if iterable object is empty and initializer is also None\n",
    "    if len(iterable) == 0 and initializer == None:\n",
    "        return 'my_reduce() of empty sequence with no initial value'\n",
    "    \n",
    "    it = iter(iterable) # creating iterator object\n",
    "    if initializer != None:\n",
    "        ans = initializer # initilizing answer with given value\n",
    "    else:\n",
    "        ans = next(it) # next() function to get elements one by one\n",
    "    for i in it:\n",
    "        ans = func(ans, i)\n",
    "    return ans"
   ]
  },
  {
   "cell_type": "code",
   "execution_count": 2,
   "id": "69c2f9ea",
   "metadata": {},
   "outputs": [],
   "source": [
    "# 1.2 Write a Python program to implement your own filter() function which works exactly like Python's built-in filter() function.\n",
    "\n",
    "def my_filter(func, iterable):\n",
    "    for i in iterable:\n",
    "        if func(i) == True:\n",
    "            print(i)"
   ]
  },
  {
   "cell_type": "code",
   "execution_count": 3,
   "id": "81e5a40f",
   "metadata": {},
   "outputs": [],
   "source": [
    "# 2. Write list comprehensions to produce the following lists.\n",
    "\n",
    "# ['x', 'xx', 'xxx', 'xxxx', 'y', 'yy', 'yyy', 'yyyy', 'z', 'zz', 'zzz', 'zzzz']\n",
    "# ['x', 'y', 'x', 'xx', 'yy', 'zz', 'xxx', 'yyy', 'zzz', 'xxxx', 'yyyy', 'zzzz']\n",
    "# [[2], [3], [4], [3], [4], [5], [4], [5], [6]] \n",
    "# [[2, 3, 4, 5], [3, 4, 5, 6], [4, 5, 6, 7], [5, 6, 7, 8]]\n",
    "# [(1, 1), (2, 1), (3, 1), (1, 2), (2, 2), (3, 2), (1, 3), (2, 3), (3, 3)]"
   ]
  },
  {
   "cell_type": "code",
   "execution_count": 4,
   "id": "823868db",
   "metadata": {},
   "outputs": [
    {
     "data": {
      "text/plain": [
       "['x', 'xx', 'xxx', 'xxxx', 'y', 'yy', 'yyy', 'yyyy', 'z', 'zz', 'zzz', 'zzzz']"
      ]
     },
     "execution_count": 4,
     "metadata": {},
     "output_type": "execute_result"
    }
   ],
   "source": [
    "# ['x', 'xx', 'xxx', 'xxxx', 'y', 'yy', 'yyy', 'yyyy', 'z', 'zz', 'zzz', 'zzzz']\n",
    "\n",
    "string = 'xyz'\n",
    "[l*i for l in string for i in range(1, 5)]"
   ]
  },
  {
   "cell_type": "code",
   "execution_count": 5,
   "id": "db15dfc0",
   "metadata": {},
   "outputs": [
    {
     "data": {
      "text/plain": [
       "['x', 'y', 'z', 'xx', 'yy', 'zz', 'xxx', 'yyy', 'zzz', 'xxxx', 'yyyy', 'zzzz']"
      ]
     },
     "execution_count": 5,
     "metadata": {},
     "output_type": "execute_result"
    }
   ],
   "source": [
    "# ['x', 'y', 'x', 'xx', 'yy', 'zz', 'xxx', 'yyy', 'zzz', 'xxxx', 'yyyy', 'zzzz']\n",
    "\n",
    "string = 'xyz'\n",
    "[l*i for i in range(1, 5) for l in string]"
   ]
  },
  {
   "cell_type": "code",
   "execution_count": 6,
   "id": "e589c6e3",
   "metadata": {},
   "outputs": [
    {
     "data": {
      "text/plain": [
       "[[2], [3], [4], [3], [4], [5], [4], [5], [6]]"
      ]
     },
     "execution_count": 6,
     "metadata": {},
     "output_type": "execute_result"
    }
   ],
   "source": [
    "# [[2], [3], [4], [3], [4], [5], [4], [5], [6]] \n",
    "\n",
    "[[i+j] for i in range(2, 5) for j in range(0, 3)]"
   ]
  },
  {
   "cell_type": "code",
   "execution_count": 7,
   "id": "163b652c",
   "metadata": {},
   "outputs": [
    {
     "data": {
      "text/plain": [
       "[[2, 3, 4, 5], [3, 4, 5, 6], [4, 5, 6, 7], [5, 6, 7, 8]]"
      ]
     },
     "execution_count": 7,
     "metadata": {},
     "output_type": "execute_result"
    }
   ],
   "source": [
    "# [[2, 3, 4, 5], [3, 4, 5, 6], [4, 5, 6, 7], [5, 6, 7, 8]]\n",
    "\n",
    "[[i+j for i in range(0, 4)] for j in range(2, 6)]"
   ]
  },
  {
   "cell_type": "code",
   "execution_count": 8,
   "id": "70dcc4a1",
   "metadata": {},
   "outputs": [
    {
     "data": {
      "text/plain": [
       "[(1, 1), (2, 1), (3, 1), (1, 2), (2, 2), (3, 2), (1, 3), (2, 3), (3, 3)]"
      ]
     },
     "execution_count": 8,
     "metadata": {},
     "output_type": "execute_result"
    }
   ],
   "source": [
    "# [(1, 1), (2, 1), (3, 1), (1, 2), (2, 2), (3, 2), (1, 3), (2, 3), (3, 3)]\n",
    "\n",
    "[(j, i) for i in range(1, 4) for j in range(1, 4)]"
   ]
  },
  {
   "cell_type": "code",
   "execution_count": null,
   "id": "e475507f",
   "metadata": {},
   "outputs": [],
   "source": []
  }
 ],
 "metadata": {
  "kernelspec": {
   "display_name": "Python 3",
   "language": "python",
   "name": "python3"
  },
  "language_info": {
   "codemirror_mode": {
    "name": "ipython",
    "version": 3
   },
   "file_extension": ".py",
   "mimetype": "text/x-python",
   "name": "python",
   "nbconvert_exporter": "python",
   "pygments_lexer": "ipython3",
   "version": "3.8.8"
  }
 },
 "nbformat": 4,
 "nbformat_minor": 5
}
