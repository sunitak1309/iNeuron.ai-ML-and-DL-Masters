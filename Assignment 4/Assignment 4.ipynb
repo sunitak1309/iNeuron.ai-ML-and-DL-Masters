{
 "cells": [
  {
   "cell_type": "code",
   "execution_count": 18,
   "id": "42ecad0b",
   "metadata": {},
   "outputs": [
    {
     "data": {
      "text/plain": [
       "24.0"
      ]
     },
     "execution_count": 18,
     "metadata": {},
     "output_type": "execute_result"
    }
   ],
   "source": [
    "# 1.1 Write a Python program (with class concepts) to find the area of the triangle using the below formula\n",
    "# area = (s*(s-a)*(s-b)*(s-c)) ** 0.5\n",
    "# Function to take the length of the sides of the triangle from user should be defined in the parent class and function to \n",
    "# calculate the area should be defined in subclass. \n",
    "\n",
    "class Triangle(object):\n",
    "    \n",
    "    def __init__(self, a, b, c):\n",
    "        self.a = a\n",
    "        self.b = b\n",
    "        self.c = c\n",
    "        \n",
    "        \n",
    "class Area(Triangle):\n",
    "    \n",
    "    def __init__(self, a, b, c):\n",
    "        Triangle.__init__(self, a, b, c)\n",
    "    \n",
    "    def calculate_area(self):\n",
    "        s = (self.a + self.b + self.c) / 2\n",
    "        area = (s*(s-self.a)*(s-self.b)*(s-self.c)) ** 0.5\n",
    "        return area\n",
    "    \n",
    "    \n",
    "obj = Area(4, 13, 15)\n",
    "obj.calculate_area()"
   ]
  },
  {
   "cell_type": "code",
   "execution_count": 13,
   "id": "94191a48",
   "metadata": {},
   "outputs": [],
   "source": [
    "# 1.2 Write a function filter_long_words() that takes a list of words and an integer n and returns the list of words that are \n",
    "# longer than n.\n",
    "\n",
    "def filter_long_words(words, n):\n",
    "    ans = []\n",
    "    for word in words:\n",
    "        if len(word) > n:\n",
    "            ans.append(word)\n",
    "    return ans"
   ]
  },
  {
   "cell_type": "code",
   "execution_count": 12,
   "id": "4aeb2e93",
   "metadata": {},
   "outputs": [],
   "source": [
    "# 2.1 Write a Python program using function concept that maps list of words into a list of integers representing the lengths of\n",
    "# the corresponding words.\n",
    "# Hint : If a list [ab, cde, erty] is passed to the function then the output should come as [2, 3, 4]\n",
    "# Here 2, 3, 4 are lengths of the words in the list.\n",
    "\n",
    "def words_to_lengths(words):\n",
    "    lengths = []\n",
    "    for word in words:\n",
    "        lengths.append(len(word))\n",
    "    return lengths"
   ]
  },
  {
   "cell_type": "code",
   "execution_count": 6,
   "id": "842351f6",
   "metadata": {},
   "outputs": [],
   "source": [
    "# 2.2 Write a Python function which takes a character (i.e., a string of length 1)  and returns True if it is a vowel,\n",
    "# otherwise False.\n",
    "\n",
    "def is_vowel(ch):\n",
    "    if ch in ['a', 'e', 'i', 'o', 'u']:\n",
    "        return True\n",
    "    else:\n",
    "        return False"
   ]
  },
  {
   "cell_type": "code",
   "execution_count": null,
   "id": "f54813b3",
   "metadata": {},
   "outputs": [],
   "source": []
  }
 ],
 "metadata": {
  "kernelspec": {
   "display_name": "Python 3",
   "language": "python",
   "name": "python3"
  },
  "language_info": {
   "codemirror_mode": {
    "name": "ipython",
    "version": 3
   },
   "file_extension": ".py",
   "mimetype": "text/x-python",
   "name": "python",
   "nbconvert_exporter": "python",
   "pygments_lexer": "ipython3",
   "version": "3.8.8"
  }
 },
 "nbformat": 4,
 "nbformat_minor": 5
}
