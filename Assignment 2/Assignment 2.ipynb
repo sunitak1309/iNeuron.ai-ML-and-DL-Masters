{
 "cells": [
  {
   "cell_type": "code",
   "execution_count": 10,
   "id": "d7c8be16",
   "metadata": {},
   "outputs": [
    {
     "name": "stdout",
     "output_type": "stream",
     "text": [
      "Enter the number of rows : 5\n",
      "*\n",
      "**\n",
      "***\n",
      "****\n",
      "*****\n",
      "****\n",
      "***\n",
      "**\n",
      "*\n"
     ]
    }
   ],
   "source": [
    "# 1. Create the below pattern using nested for loop in Python.\n",
    "# *\n",
    "# **\n",
    "# ***\n",
    "# ****\n",
    "# *****\n",
    "# ****\n",
    "# ***\n",
    "# **\n",
    "# *\n",
    "\n",
    "n = int(input('Enter the number of rows : '))\n",
    "for i in range(1, n+1):\n",
    "    for j in range(1, i+1):\n",
    "        print('*', end = '')\n",
    "    print()\n",
    "for i in range(n-1, 0, -1):\n",
    "    for j in range(1, i+1):\n",
    "        print('*', end = '')\n",
    "    print()"
   ]
  },
  {
   "cell_type": "code",
   "execution_count": 12,
   "id": "f2a48a42",
   "metadata": {},
   "outputs": [
    {
     "name": "stdout",
     "output_type": "stream",
     "text": [
      "Enter a word : ineuron\n",
      "Reversed word :  norueni\n"
     ]
    }
   ],
   "source": [
    "# 2. Write a Python program to reverse a word after accepting input from the user.\n",
    "\n",
    "word = input('Enter a word : ')\n",
    "rev = word[::-1]\n",
    "print('Reversed word : ', rev)"
   ]
  },
  {
   "cell_type": "code",
   "execution_count": null,
   "id": "0f15d23c",
   "metadata": {},
   "outputs": [],
   "source": []
  }
 ],
 "metadata": {
  "kernelspec": {
   "display_name": "Python 3",
   "language": "python",
   "name": "python3"
  },
  "language_info": {
   "codemirror_mode": {
    "name": "ipython",
    "version": 3
   },
   "file_extension": ".py",
   "mimetype": "text/x-python",
   "name": "python",
   "nbconvert_exporter": "python",
   "pygments_lexer": "ipython3",
   "version": "3.8.8"
  }
 },
 "nbformat": 4,
 "nbformat_minor": 5
}
